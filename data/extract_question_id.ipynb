{
 "cells": [
  {
   "cell_type": "code",
   "execution_count": 1,
   "metadata": {},
   "outputs": [],
   "source": [
    "# Extract the question ids from llava-1.5_with_image.json, and store them in a json file\n",
    "\n",
    "import json\n",
    "\n",
    "with open('llava-1.5_with_image.json') as f:\n",
    "    data = json.load(f)\n",
    "    \n",
    "question_ids = []\n",
    "for question in data:\n",
    "    question_ids.append(question['question_id'])\n",
    "    \n",
    "with open('llava-1.5_question_ids.json', 'w') as f:\n",
    "    json.dump(question_ids, f)"
   ]
  },
  {
   "cell_type": "code",
   "execution_count": null,
   "metadata": {},
   "outputs": [],
   "source": []
  }
 ],
 "metadata": {
  "kernelspec": {
   "display_name": "Python 3",
   "language": "python",
   "name": "python3"
  },
  "language_info": {
   "codemirror_mode": {
    "name": "ipython",
    "version": 3
   },
   "file_extension": ".py",
   "mimetype": "text/x-python",
   "name": "python",
   "nbconvert_exporter": "python",
   "pygments_lexer": "ipython3",
   "version": "3.11.0"
  }
 },
 "nbformat": 4,
 "nbformat_minor": 2
}
