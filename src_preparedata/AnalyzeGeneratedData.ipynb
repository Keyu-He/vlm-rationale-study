{
 "cells": [
  {
   "cell_type": "code",
   "execution_count": 21,
   "metadata": {},
   "outputs": [
    {
     "name": "stdout",
     "output_type": "stream",
     "text": [
      "Loaded 200 claim-assistance pairs\n"
     ]
    }
   ],
   "source": [
    "import json\n",
    "import random\n",
    "\n",
    "plan = \"fm2_llama3.1_8b_20instances_seed0\"\n",
    "uids = 10\n",
    "queue_data = []\n",
    "for uid in range(uids):\n",
    "    queue_data.append(json.load(open(f\"../web/baked_queues/{plan}_{uid:0>3}.json\")))\n",
    "print(f\"Loaded {len(sum(queue_data, []))} claim-assistance pairs\")"
   ]
  },
  {
   "cell_type": "code",
   "execution_count": 22,
   "metadata": {},
   "outputs": [
    {
     "name": "stdout",
     "output_type": "stream",
     "text": [
      "Queue 0: 75% accuracy\n",
      "Queue 1: 70% accuracy\n",
      "Queue 2: 65% accuracy\n",
      "Queue 3: 85% accuracy\n",
      "Queue 4: 70% accuracy\n",
      "Queue 5: 75% accuracy\n",
      "Queue 6: 80% accuracy\n",
      "Queue 7: 70% accuracy\n",
      "Queue 8: 80% accuracy\n",
      "Queue 9: 50% accuracy\n"
     ]
    }
   ],
   "source": [
    "for i in range(10):\n",
    "    llm_acc = sum([d[\"llm_is_correct\"] for d in queue_data[i]]) / len(queue_data[i])\n",
    "    print(f\"Queue {i}: {llm_acc:.0%} accuracy\")"
   ]
  },
  {
   "cell_type": "code",
   "execution_count": 10,
   "metadata": {},
   "outputs": [
    {
     "name": "stdout",
     "output_type": "stream",
     "text": [
      "% positive labels: 0.35\n",
      "% positive predictions: 0.625\n",
      "% correct predictions: 0.695\n"
     ]
    },
    {
     "data": {
      "image/png": "[encoded data removed]",
      "text/plain": [
       "<Figure size 640x480 with 2 Axes>"
      ]
     },
     "metadata": {},
     "output_type": "display_data"
    }
   ],
   "source": [
    "llm_predictions = [x['llm_prediction'] for x in sum(queue_data, [])]\n",
    "gt_labels = [x['gt_label'] for x in sum(queue_data, [])]\n",
    "llm_correctness = [x['llm_is_correct'] for x in sum(queue_data, [])]\n",
    "print(f\"% positive labels:\", sum(gt_labels) / len(gt_labels))\n",
    "print(f\"% positive predictions:\", sum(llm_predictions) / len(llm_predictions))\n",
    "print(f\"% correct predictions:\", sum(llm_correctness) / len(llm_correctness))\n",
    "\n",
    "from sklearn.metrics import confusion_matrix\n",
    "import numpy as np\n",
    "import matplotlib.pyplot as plt\n",
    "\n",
    "cm = confusion_matrix(gt_labels, llm_predictions)\n",
    "cm = cm / cm.sum(axis=1)[:, np.newaxis]\n",
    "plt.imshow(cm, cmap='Blues', interpolation='nearest')\n",
    "plt.colorbar()\n",
    "plt.title('Confusion matrix')\n",
    "plt.xlabel('Predicted')\n",
    "plt.ylabel('True')\n",
    "plt.xticks([0, 1], ['Negative', 'Positive'])\n",
    "plt.yticks([0, 1], ['Negative', 'Positive'])\n",
    "plt.show()\n"
   ]
  },
  {
   "cell_type": "code",
   "execution_count": 11,
   "metadata": {},
   "outputs": [
    {
     "data": {
      "text/plain": [
       "array([[72, 58],\n",
       "       [ 3, 67]])"
      ]
     },
     "execution_count": 11,
     "metadata": {},
     "output_type": "execute_result"
    }
   ],
   "source": [
    "confusion_matrix(gt_labels, llm_predictions)"
   ]
  },
  {
   "cell_type": "code",
   "execution_count": 19,
   "metadata": {},
   "outputs": [
    {
     "name": "stdout",
     "output_type": "stream",
     "text": [
      "Confidence range: 0.5-0.6, 33 instances\n",
      "Confidence range: 0.6-0.7, 44 instances\n",
      "Confidence range: 0.7-0.8, 45 instances\n",
      "Confidence range: 0.8-0.9, 42 instances\n",
      "Confidence range: 0.9-1.0, 36 instances\n"
     ]
    }
   ],
   "source": [
    "llm_confidences = [int(x['llm_confidence'].strip('%'))/100 for x in sum(queue_data, [])]\n",
    "for i in np.linspace(0.5, 0.9, 5):\n",
    "    conf_lower = i\n",
    "    conf_upper = i + 0.1 if i < 0.9 else 1.01\n",
    "    bin_confidences = [x for x in llm_confidences if conf_lower <= x < conf_upper]\n",
    "\n",
    "    print(f\"Confidence range: {conf_lower:.1f}-{conf_upper:.1f}, {len(bin_confidences)} instances\")"
   ]
  },
  {
   "cell_type": "code",
   "execution_count": null,
   "metadata": {},
   "outputs": [],
   "source": []
  }
 ],
 "metadata": {
  "kernelspec": {
   "display_name": "Python 3.10.14 ('vllm')",
   "language": "python",
   "name": "python3"
  },
  "language_info": {
   "codemirror_mode": {
    "name": "ipython",
    "version": 3
   },
   "file_extension": ".py",
   "mimetype": "text/x-python",
   "name": "python",
   "nbconvert_exporter": "python",
   "pygments_lexer": "ipython3",
   "version": "3.10.14"
  },
  "orig_nbformat": 4,
  "vscode": {
   "interpreter": {
    "hash": "0fc4ff9e0e068fe40ce7d2a33110d797f9c98ce5a6c5887e07f742f9ffb0e9bc"
   }
  }
 },
 "nbformat": 4,
 "nbformat_minor": 2
}
